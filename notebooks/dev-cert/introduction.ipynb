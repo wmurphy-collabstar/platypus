{
 "cells": [
  {
   "cell_type": "markdown",
   "id": "cceea51d",
   "metadata": {},
   "source": [
    "# Introduction to Qiskit Developer Certification Course\n",
    "\n",
    "In this compact course, we will be focusing on gaining mastery over some of the essential topics. This course is mainly aimed at learners who have the basics of quantum computing and Qiskit down, and would like to attempt the Developer Certification Exam to prove their competence officially. Thus, we will not go over the most basics of quantum computing for which you can always refer to the other chapters in the Qiskit textbook.\n",
    "\n",
    "After this course, you will have gained a more detailed understanding of the basic functionality of the Qiskit SDK and will be at a point where you can perform these tasks on your own without referring to the documentation."
   ]
  },
  {
   "cell_type": "code",
   "execution_count": null,
   "id": "726e5059",
   "metadata": {},
   "outputs": [],
   "source": []
  }
 ],
 "metadata": {
  "kernelspec": {
   "display_name": "Python 3 (ipykernel)",
   "language": "python",
   "name": "python3"
  },
  "language_info": {
   "codemirror_mode": {
    "name": "ipython",
    "version": 3
   },
   "file_extension": ".py",
   "mimetype": "text/x-python",
   "name": "python",
   "nbconvert_exporter": "python",
   "pygments_lexer": "ipython3",
   "version": "3.9.7"
  }
 },
 "nbformat": 4,
 "nbformat_minor": 5
}
