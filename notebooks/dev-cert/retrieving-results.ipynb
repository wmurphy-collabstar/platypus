{
 "cells": [
  {
   "cell_type": "markdown",
   "metadata": {},
   "source": [
    "# Retrieving Results"
   ]
  },
  {
   "cell_type": "markdown",
   "metadata": {},
   "source": [
    "### How to Retrieve Counts"
   ]
  },
  {
   "cell_type": "markdown",
   "metadata": {},
   "source": [
    "After sending a Quantum Circuit to the backend of your choice, you will need to retrieve your results. For a job sent to the 'qasm_simulator' or a quantum backend, the kind of results you get are in the form of counts. When plotted, these counts will show a probability distribution demonstrating the likelihood of your qubits resulting in certain given states. We will talk about visualization in the next chapter, but for now we'll go over how to retrieve your results with the following drag and drop code exercise below."
   ]
  },
  {
   "cell_type": "markdown",
   "metadata": {},
   "source": [
    "<!-- ::: q-block.exercise -->\n",
    "\n",
    "    q-drag-and-drop-code\n",
    "        .line from qiskit import *\n",
    "        .line provider = IBMQ.load_account()\n",
    "        .line qc = QuantumCircuit(2,2)\n",
    "        .line(group = 0) qc.h(0)\n",
    "        .line(group = 0) qc.cx(0,1)\n",
    "        .line qc.measure_all()\n",
    "        .line(group = 1) backend = provider.get_backend('ibmq_manila')\n",
    "        .line(group = 1) shots = 1024\n",
    "        .line job = execute(qc, backend, shots)\n",
    "        .line results = job.get_results()\n",
    "        .line counts = results.get_counts(qc)\n",
    "        \n",
    "\n",
    "<!-- ::: -->"
   ]
  },
  {
   "cell_type": "markdown",
   "metadata": {},
   "source": [
    "### Statevector Results"
   ]
  },
  {
   "cell_type": "markdown",
   "metadata": {},
   "source": [
    "### Unitary Results"
   ]
  },
  {
   "cell_type": "code",
   "execution_count": null,
   "metadata": {},
   "outputs": [],
   "source": []
  }
 ],
 "metadata": {
  "kernelspec": {
   "display_name": "Python 3",
   "language": "python",
   "name": "python3"
  },
  "language_info": {
   "codemirror_mode": {
    "name": "ipython",
    "version": 3
   },
   "file_extension": ".py",
   "mimetype": "text/x-python",
   "name": "python",
   "nbconvert_exporter": "python",
   "pygments_lexer": "ipython3",
   "version": "3.8.3"
  }
 },
 "nbformat": 4,
 "nbformat_minor": 4
}
