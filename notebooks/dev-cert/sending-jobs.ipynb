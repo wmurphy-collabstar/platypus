{
 "cells": [
  {
   "cell_type": "markdown",
   "metadata": {},
   "source": [
    "# Sending Jobs\n",
    "\n"
   ]
  },
  {
   "cell_type": "markdown",
   "metadata": {},
   "source": [
    "### Basics"
   ]
  },
  {
   "cell_type": "markdown",
   "metadata": {},
   "source": [
    "Here is a drag and drop code example of how to send a job with the following steps:\n",
    "First, load your account.\n",
    "Second, create a circuit, as we learned in previous chapters.\n",
    "Third, create a job for the new circuit, in addition to finding a backend to send your circuit to.\n",
    "In the next sections we'll learn more details about these actions."
   ]
  },
  {
   "cell_type": "markdown",
   "metadata": {},
   "source": [
    "<!-- ::: q-block.exercise -->\n",
    "\n",
    "### Turning a circuit into a job\n",
    "\n",
    "    q-drag-and-drop-code\n",
    "        .line from qiskit import *\n",
    "        .line provider = IBMQ.load_account()\n",
    "        .line qc = QuantumCircuit(2,2)\n",
    "        .line(group = 0) qc.h(0)\n",
    "        .line(group = 0) qc.cx(0,1)\n",
    "        .line qc.measure_all()\n",
    "        .line(group = 1) backend = provider.get_backend('ibmq_manila')\n",
    "        .line(group = 1) shots = 1024\n",
    "        .line job = execute(qc, backend, shots)\n",
    "        \n",
    "<!-- ::: -->"
   ]
  },
  {
   "cell_type": "markdown",
   "metadata": {},
   "source": [
    "### Commonly used Attributes of Execute"
   ]
  },
  {
   "cell_type": "markdown",
   "metadata": {},
   "source": [
    "Here are the attributes of the Execute method and a descriptor for each. More documentation can be found here:\n",
    "\n",
    "1. experiments - the circuit or circuits you would like to run. We will discuss more other attributes in detail, including **qobj_id, qobj_header, max_credits, default_qubit_los, default_meas_los, qubit_lo_range, meas_lo_range, parameter_binds, init_qubits, and run_config** \n",
    "<!-- ::: q-block.tabs -->\n",
    "\n",
    "### Different values for experiments\n",
    "\n",
    "<!-- ::: tab -->\n",
    "### For One Circuit\n",
    "\n",
    "    qc = QuantumCircuit(2,2)\n",
    "    experiments = qc\n",
    "<!-- ::: -->\n",
    "\n",
    "<!-- ::: tab -->\n",
    "### For Multiple Circuits\n",
    "\n",
    "    qc_0 = QuantumCircuit(2,2)\n",
    "    qc_1 = QuantumCircuit(2,2)\n",
    "    ....\n",
    "    qc_n = QuantumCircuit(2,2)\n",
    "    experiments = [qc_0, qc_1, ..., qc_n]\n",
    "<!-- ::: -->\n",
    "\n",
    "<!-- ::: tab -->\n",
    "### For One Schedule\n",
    "\n",
    "    sched = Schedule()\n",
    "    ....\n",
    "    experiments = sched\n",
    "<!-- ::: -->\n",
    "\n",
    "<!-- ::: tab -->\n",
    "### For Multiple Schedules\n",
    "\n",
    "    sched0 = Schedule()\n",
    "    sched1 = Schedule()\n",
    "    ....\n",
    "    schedn = Schedule()\n",
    "    experiments = [sched0, sched1, ...., schedn]\n",
    "<!-- ::: -->\n",
    "\n",
    "\n",
    "<!-- ::: -->"
   ]
  },
  {
   "cell_type": "markdown",
   "metadata": {},
   "source": [
    "2. backend - the simulator or system that you send your circuits to."
   ]
  },
  {
   "cell_type": "markdown",
   "metadata": {},
   "source": [
    "3. shots - the number of times your circuit will be run on the backend. The default number is 1024, but with more shots, the more accurate your probability distribution will be. The minimum number of shots is 1 and the maximum is 8192. ** this has probably changed so double check"
   ]
  },
  {
   "cell_type": "markdown",
   "metadata": {},
   "source": [
    "### Backends and Simulators"
   ]
  },
  {
   "cell_type": "markdown",
   "metadata": {},
   "source": [
    "The feature **backend and shots**, including **backend_properties, memory, seed_simulator, memory_slots, memory_slot_size, rep_time, and rep_delay** will be discussed in more detail in this section."
   ]
  },
  {
   "cell_type": "markdown",
   "metadata": {},
   "source": [
    "### Transpilation Passes and Optimization Levels"
   ]
  },
  {
   "cell_type": "markdown",
   "metadata": {},
   "source": [
    "**basis_gates, coupling_map, initial_layout, seed_transpiler, optimization_level, pass_manager, and meas_map** will be discussed more in the next section"
   ]
  },
  {
   "cell_type": "markdown",
   "metadata": {},
   "source": [
    "### Qiskit Pulse"
   ]
  },
  {
   "cell_type": "markdown",
   "metadata": {},
   "source": [
    "Pulse attributes, including **schedule_los, meas_level, meas_return, schedule_circuit, inst_map, and scheduling_method** will be discussed in its own section."
   ]
  },
  {
   "cell_type": "markdown",
   "metadata": {},
   "source": [
    "### IBMQJobManager"
   ]
  },
  {
   "cell_type": "markdown",
   "metadata": {},
   "source": [
    "### Monitoring Jobs and Status"
   ]
  },
  {
   "cell_type": "markdown",
   "metadata": {},
   "source": [
    "Hey winona, use this link for reference to finish this chapter: https://qiskit.org/documentation/apidoc/execute.html?highlight=execute#module-qiskit.execute_function"
   ]
  },
  {
   "cell_type": "code",
   "execution_count": null,
   "metadata": {},
   "outputs": [],
   "source": []
  }
 ],
 "metadata": {
  "kernelspec": {
   "display_name": "Python 3",
   "language": "python",
   "name": "python3"
  },
  "language_info": {
   "codemirror_mode": {
    "name": "ipython",
    "version": 3
   },
   "file_extension": ".py",
   "mimetype": "text/x-python",
   "name": "python",
   "nbconvert_exporter": "python",
   "pygments_lexer": "ipython3",
   "version": "3.8.3"
  }
 },
 "nbformat": 4,
 "nbformat_minor": 4
}
